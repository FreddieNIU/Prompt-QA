{
 "cells": [
  {
   "cell_type": "code",
   "execution_count": 1,
   "id": "fa1cf6e6-6330-42f3-b963-9386d91f40fa",
   "metadata": {},
   "outputs": [],
   "source": [
    "import numpy as np\n",
    "from tabulate import tabulate"
   ]
  },
  {
   "cell_type": "code",
   "execution_count": 2,
   "id": "9b181a9f-03de-44b9-b95a-0638861bd43e",
   "metadata": {},
   "outputs": [],
   "source": [
    "def Mutual_Infor(domain, template):\n",
    "    \"\"\"\n",
    "    domain: a list of P(A). E.g: a list of F1 in baseline model\n",
    "    template: a list of P(A|B) E.g: a list of F1 in templated model\n",
    "    \"\"\"\n",
    "    I = 0\n",
    "    for pa in domain:\n",
    "        I -= pa * np.log2(pa)\n",
    "    for pab in template:\n",
    "        I += pab * np.log2(pab)\n",
    "    return I"
   ]
  },
  {
   "cell_type": "code",
   "execution_count": 3,
   "id": "23d68e81-dbc6-46e4-a94f-ae72a9ca6805",
   "metadata": {},
   "outputs": [],
   "source": [
    "# health = [0.7557, 0.7022, 0.7032]\n",
    "# indus = [0.696, 0.7042, 0.6855]\n",
    "# tech = [0.6769, 0.6918, 0.7203]\n",
    "\n",
    "# phraseTemplate_health = [0.7523, 0.7036, 0.6891]\n",
    "# phraseTemplate_indus = [0.6963, 0.7348, 0.7265]\n",
    "# phraseTemplate_tech= [0.7108, 0.7053, 0.7388]\n",
    "\n",
    "# entityTemplate_health = [0.7242, 0.6566, 0.6849]\n",
    "# entityTemplate_indus = [0.8845, 0.7087, 0.7031]\n",
    "# entityTemplate_tech = [0.7323, 0.6783, 0.7338]\n",
    "\n",
    "# sentimentTemplate_health = [0.7399, 0.6929, 0.6919]\n",
    "# sentimentTemplate_indus = [0.6747, 0.7254, 0.7011]\n",
    "# sentimentTemplate_tech = [0.7238, 0.702, 0.7382]\n",
    "\n",
    "# QtypeTemplate_health = [0.7462, 0.6994, 0.6975]\n",
    "# QtypeTemplate_indus = [0.685, 0.7204, 0.6928]\n",
    "# QtypeTemplate_tech = [0.7102, 0.6923, 0.7299]"
   ]
  },
  {
   "cell_type": "code",
   "execution_count": 3,
   "id": "0d31bc5d-f3be-4f39-82e2-411920422a0b",
   "metadata": {},
   "outputs": [],
   "source": [
    "health = [70.29, 70.11, 69.89]\n",
    "indus = [68.44, 72.53, 69.53]\n",
    "tech = [68.61, 44.49, 71.79]\n",
    "\n",
    "phraseTemplate_health = [69.57, 73.61, 69.28]\n",
    "phraseTemplate_indus = [70.73, 76.27, 73.63]\n",
    "phraseTemplate_tech= [69.68, 72.83, 71.58]\n",
    "\n",
    "entityTemplate_health = [69.34, 74.86, 71.86]\n",
    "entityTemplate_indus = [70.39, 75.53, 71.79]\n",
    "entityTemplate_tech = [68.71, 70.34, 72.73]\n",
    "\n",
    "sentimentTemplate_health = [69.32, 73.03, 69.97]\n",
    "sentimentTemplate_indus = [68.89, 74.31, 73.51]\n",
    "sentimentTemplate_tech = [67.95, 73.88, 73.26]\n",
    "\n",
    "QtypeTemplate_health = [70.41, 75.49, 72.2]\n",
    "QtypeTemplate_indus = [66.46, 74.07, 67.97]\n",
    "QtypeTemplate_tech = [69.2, 73.41, 73.32]"
   ]
  },
  {
   "cell_type": "code",
   "execution_count": 4,
   "id": "530bc456-6b3f-4ef2-bf2a-24cbbb23611f",
   "metadata": {},
   "outputs": [],
   "source": [
    "MI_health_phrase = Mutual_Infor(health, phraseTemplate_health)\n",
    "MI_indus_phrase = Mutual_Infor(indus, phraseTemplate_indus)\n",
    "MI_tech_phrase = Mutual_Infor(tech, phraseTemplate_tech)\n",
    "\n",
    "MI_health_entity = Mutual_Infor(health, entityTemplate_health)\n",
    "MI_indus_entity = Mutual_Infor(indus, entityTemplate_indus)\n",
    "MI_tech_entity = Mutual_Infor(tech, entityTemplate_tech)\n",
    "\n",
    "MI_health_sentiment = Mutual_Infor(health, sentimentTemplate_health)\n",
    "MI_indus_sentiment = Mutual_Infor(indus, sentimentTemplate_indus)\n",
    "MI_tech_sentiment = Mutual_Infor(tech, sentimentTemplate_tech)\n",
    "\n",
    "MI_health_Qtype = Mutual_Infor(health, QtypeTemplate_health)\n",
    "MI_indus_Qtype = Mutual_Infor(indus, QtypeTemplate_indus)\n",
    "MI_tech_Qtype = Mutual_Infor(tech, QtypeTemplate_tech)"
   ]
  },
  {
   "cell_type": "code",
   "execution_count": 5,
   "id": "ae9d3bef-850c-44e4-a72b-be4420542268",
   "metadata": {},
   "outputs": [
    {
     "name": "stdout",
     "output_type": "stream",
     "text": [
      "╒════════════════════╤══════════╤══════════════╤══════════════╕\n",
      "│                    │   health │   industrial │   technology │\n",
      "╞════════════════════╪══════════╪══════════════╪══════════════╡\n",
      "│ phrase template    │  16.5694 │      77.1439 │      213.445 │\n",
      "├────────────────────┼──────────┼──────────────┼──────────────┤\n",
      "│ entity template    │  43.967  │      54.8427 │      195.94  │\n",
      "├────────────────────┼──────────┼──────────────┼──────────────┤\n",
      "│ Qtype template     │  59.4899 │     -14.8949 │      227.505 │\n",
      "├────────────────────┼──────────┼──────────────┼──────────────┤\n",
      "│ sentiment template │  15.4681 │      47.2545 │      221.213 │\n",
      "╘════════════════════╧══════════╧══════════════╧══════════════╛\n"
     ]
    }
   ],
   "source": [
    "data = [['phrase template', MI_health_phrase, MI_indus_phrase, MI_tech_phrase],\n",
    "        ['entity template', MI_health_entity, MI_indus_entity, MI_tech_entity],\n",
    "        ['Qtype template',MI_health_Qtype, MI_indus_Qtype, MI_tech_Qtype],\n",
    "        ['sentiment template', MI_health_sentiment, MI_indus_sentiment, MI_tech_sentiment]]\n",
    "col_name = ['health', 'industrial', 'technology']\n",
    "\n",
    "print(tabulate(data, headers=col_name,tablefmt=\"fancy_grid\"))"
   ]
  },
  {
   "cell_type": "markdown",
   "id": "d7b42b62-9218-4b19-ad5e-fb15c85db8e4",
   "metadata": {},
   "source": [
    "* Healthcare : empty template\n",
    "* Industrial : entity template\n",
    "* Technology : Sentiment template"
   ]
  },
  {
   "cell_type": "code",
   "execution_count": 7,
   "id": "fd0ad324-7726-42f8-917e-ca2da4074a22",
   "metadata": {},
   "outputs": [],
   "source": [
    "health = [0.7557]\n",
    "indus = [0.7042]\n",
    "tech = [0.7203]\n",
    "\n",
    "phraseTemplate_health = [0.7523]\n",
    "phraseTemplate_indus = [0.7348]\n",
    "phraseTemplate_tech= [0.7388]\n",
    "\n",
    "entityTemplate_health = [0.7242]\n",
    "entityTemplate_indus = [0.7087]\n",
    "entityTemplate_tech =  [0.7338]\n",
    "\n",
    "sentimentTemplate_health = [0.7399]\n",
    "sentimentTemplate_indus = [0.7254]\n",
    "sentimentTemplate_tech = [0.7382]\n",
    "\n",
    "QtypeTemplate_health = [0.7462]\n",
    "QtypeTemplate_indus = [0.7204]\n",
    "QtypeTemplate_tech = [0.7299]"
   ]
  },
  {
   "cell_type": "code",
   "execution_count": 8,
   "id": "890c4773-df30-4be4-88c3-8be784fc56de",
   "metadata": {},
   "outputs": [],
   "source": [
    "MI_health_phrase = Mutual_Infor(health, phraseTemplate_health)\n",
    "MI_indus_phrase = Mutual_Infor(indus, phraseTemplate_indus)\n",
    "MI_tech_phrase = Mutual_Infor(tech, phraseTemplate_tech)\n",
    "\n",
    "MI_health_entity = Mutual_Infor(health, entityTemplate_health)\n",
    "MI_indus_entity = Mutual_Infor(indus, entityTemplate_indus)\n",
    "MI_tech_entity = Mutual_Infor(tech, entityTemplate_tech)\n",
    "\n",
    "MI_health_sentiment = Mutual_Infor(health, sentimentTemplate_health)\n",
    "MI_indus_sentiment = Mutual_Infor(indus, sentimentTemplate_indus)\n",
    "MI_tech_sentiment = Mutual_Infor(tech, sentimentTemplate_tech)\n",
    "\n",
    "MI_health_Qtype = Mutual_Infor(health, QtypeTemplate_health)\n",
    "MI_indus_Qtype = Mutual_Infor(indus, QtypeTemplate_indus)\n",
    "MI_tech_Qtype = Mutual_Infor(tech, QtypeTemplate_tech)"
   ]
  },
  {
   "cell_type": "code",
   "execution_count": 9,
   "id": "980cd853-0de8-4f47-8130-d15eedd48e80",
   "metadata": {},
   "outputs": [
    {
     "name": "stdout",
     "output_type": "stream",
     "text": [
      "╒════════════════════╤═════════════╤══════════════╤══════════════╕\n",
      "│                    │      health │   industrial │   technology │\n",
      "╞════════════════════╪═════════════╪══════════════╪══════════════╡\n",
      "│ phrase template    │ -0.00352012 │   0.0296102  │   0.0182731  │\n",
      "├────────────────────┼─────────────┼──────────────┼──────────────┤\n",
      "│ entity template    │ -0.0317547  │   0.00423608 │   0.0132678  │\n",
      "├────────────────────┼─────────────┼──────────────┼──────────────┤\n",
      "│ Qtype template     │ -0.00978    │   0.0154422  │   0.00939779 │\n",
      "├────────────────────┼─────────────┼──────────────┼──────────────┤\n",
      "│ sentiment template │ -0.0161696  │   0.020315   │   0.0176699  │\n",
      "╘════════════════════╧═════════════╧══════════════╧══════════════╛\n"
     ]
    }
   ],
   "source": [
    "data = [['phrase template', MI_health_phrase, MI_indus_phrase, MI_tech_phrase],\n",
    "        ['entity template', MI_health_entity, MI_indus_entity, MI_tech_entity],\n",
    "        ['Qtype template',MI_health_Qtype, MI_indus_Qtype, MI_tech_Qtype],\n",
    "        ['sentiment template', MI_health_sentiment, MI_indus_sentiment, MI_tech_sentiment]]\n",
    "col_name = ['health', 'industrial', 'technology']\n",
    "\n",
    "print(tabulate(data, headers=col_name, tablefmt=\"fancy_grid\"))"
   ]
  },
  {
   "cell_type": "code",
   "execution_count": null,
   "id": "c8447723-67cc-406f-a757-dbf110a03e6b",
   "metadata": {},
   "outputs": [],
   "source": []
  }
 ],
 "metadata": {
  "kernelspec": {
   "display_name": "Python 3",
   "language": "python",
   "name": "python3"
  },
  "language_info": {
   "codemirror_mode": {
    "name": "ipython",
    "version": 3
   },
   "file_extension": ".py",
   "mimetype": "text/x-python",
   "name": "python",
   "nbconvert_exporter": "python",
   "pygments_lexer": "ipython3",
   "version": "3.7.11"
  }
 },
 "nbformat": 4,
 "nbformat_minor": 5
}
