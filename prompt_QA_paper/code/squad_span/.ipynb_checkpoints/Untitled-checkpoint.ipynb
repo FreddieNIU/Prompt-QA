{
 "cells": [
  {
   "cell_type": "code",
   "execution_count": 1,
   "id": "fedab94e-8ca3-4eea-88d3-0b7a50ca70a4",
   "metadata": {},
   "outputs": [],
   "source": [
    "from MyRoberta import *\n"
   ]
  },
  {
   "cell_type": "code",
   "execution_count": 2,
   "id": "9cb64277-0f85-4246-9d83-691c828f96ed",
   "metadata": {},
   "outputs": [
    {
     "ename": "TypeError",
     "evalue": "__init__() missing 1 required positional argument: 'config'",
     "output_type": "error",
     "traceback": [
      "\u001b[0;31m---------------------------------------------------------------------------\u001b[0m",
      "\u001b[0;31mTypeError\u001b[0m                                 Traceback (most recent call last)",
      "\u001b[0;32m<ipython-input-2-e50d9fbbef42>\u001b[0m in \u001b[0;36m<module>\u001b[0;34m\u001b[0m\n\u001b[0;32m----> 1\u001b[0;31m \u001b[0mRoberta_LP\u001b[0m \u001b[0;34m=\u001b[0m \u001b[0mMyRobertaForQuestionAnswering_LP\u001b[0m\u001b[0;34m(\u001b[0m\u001b[0;34m)\u001b[0m\u001b[0;34m\u001b[0m\u001b[0;34m\u001b[0m\u001b[0m\n\u001b[0m",
      "\u001b[0;31mTypeError\u001b[0m: __init__() missing 1 required positional argument: 'config'"
     ]
    }
   ],
   "source": [
    "Roberta_LP = MyRobertaForQuestionAnswering_LP.from_pretrained(config.model)"
   ]
  },
  {
   "cell_type": "code",
   "execution_count": null,
   "id": "18b56627-d796-4077-ae21-dac7d4919375",
   "metadata": {},
   "outputs": [],
   "source": []
  }
 ],
 "metadata": {
  "kernelspec": {
   "display_name": "Python 3",
   "language": "python",
   "name": "python3"
  },
  "language_info": {
   "codemirror_mode": {
    "name": "ipython",
    "version": 3
   },
   "file_extension": ".py",
   "mimetype": "text/x-python",
   "name": "python",
   "nbconvert_exporter": "python",
   "pygments_lexer": "ipython3",
   "version": "3.7.11"
  }
 },
 "nbformat": 4,
 "nbformat_minor": 5
}
